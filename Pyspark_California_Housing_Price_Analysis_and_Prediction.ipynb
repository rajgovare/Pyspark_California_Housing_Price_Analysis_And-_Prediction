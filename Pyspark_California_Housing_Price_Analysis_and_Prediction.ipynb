{
  "cells": [
    {
      "cell_type": "markdown",
      "metadata": {
        "id": "lsC5jy4gTbt8"
      },
      "source": [
        "##Analyzing California Housing Data\n"
      ]
    },
    {
      "cell_type": "code",
      "execution_count": 1,
      "metadata": {
        "colab": {
          "base_uri": "https://localhost:8080/"
        },
        "id": "MSn4yCsq6n3q",
        "outputId": "2c592030-8cea-4e51-b156-af16286f9385"
      },
      "outputs": [
        {
          "output_type": "stream",
          "name": "stdout",
          "text": [
            "Requirement already satisfied: pyspark in /usr/local/lib/python3.11/dist-packages (3.5.4)\n",
            "Requirement already satisfied: py4j==0.10.9.7 in /usr/local/lib/python3.11/dist-packages (from pyspark) (0.10.9.7)\n"
          ]
        }
      ],
      "source": [
        "pip install pyspark"
      ]
    },
    {
      "cell_type": "code",
      "execution_count": 2,
      "metadata": {
        "id": "mq--1NDi7AlL"
      },
      "outputs": [],
      "source": [
        "from pyspark.sql import SparkSession\n",
        "from pyspark.sql.functions import col, avg, max, min"
      ]
    },
    {
      "cell_type": "code",
      "execution_count": 3,
      "metadata": {
        "id": "go-v_AV67An4"
      },
      "outputs": [],
      "source": [
        "# Initialize Spark Session\n",
        "spark = SparkSession.builder.appName(\"California Housing Analysis\").getOrCreate()"
      ]
    },
    {
      "cell_type": "code",
      "execution_count": 4,
      "metadata": {
        "id": "U5TxP2mS7AqP"
      },
      "outputs": [],
      "source": [
        "# Load Built-in Dataset\n",
        "train_df = spark.read.csv(\"sample_data/california_housing_train.csv\", header=True, inferSchema=True)\n",
        "test_df = spark.read.csv(\"sample_data/california_housing_test.csv\", header=True, inferSchema=True)"
      ]
    },
    {
      "cell_type": "markdown",
      "metadata": {
        "id": "OdV1YA3C2Nwu"
      },
      "source": [
        "First we consider only train dataset for our analysis"
      ]
    },
    {
      "cell_type": "code",
      "execution_count": 5,
      "metadata": {
        "colab": {
          "base_uri": "https://localhost:8080/"
        },
        "id": "Wi3sCu8d7Asw",
        "outputId": "4f215e5d-b03d-4f3e-93c0-9869df7c9e34"
      },
      "outputs": [
        {
          "output_type": "stream",
          "name": "stdout",
          "text": [
            "+---------+--------+------------------+-----------+--------------+----------+----------+-------------+------------------+\n",
            "|longitude|latitude|housing_median_age|total_rooms|total_bedrooms|population|households|median_income|median_house_value|\n",
            "+---------+--------+------------------+-----------+--------------+----------+----------+-------------+------------------+\n",
            "|  -114.31|   34.19|              15.0|     5612.0|        1283.0|    1015.0|     472.0|       1.4936|           66900.0|\n",
            "|  -114.47|    34.4|              19.0|     7650.0|        1901.0|    1129.0|     463.0|         1.82|           80100.0|\n",
            "|  -114.56|   33.69|              17.0|      720.0|         174.0|     333.0|     117.0|       1.6509|           85700.0|\n",
            "|  -114.57|   33.64|              14.0|     1501.0|         337.0|     515.0|     226.0|       3.1917|           73400.0|\n",
            "|  -114.57|   33.57|              20.0|     1454.0|         326.0|     624.0|     262.0|        1.925|           65500.0|\n",
            "+---------+--------+------------------+-----------+--------------+----------+----------+-------------+------------------+\n",
            "only showing top 5 rows\n",
            "\n"
          ]
        }
      ],
      "source": [
        "# Show the first few rows of the dataset\n",
        "train_df.show(5)"
      ]
    },
    {
      "cell_type": "code",
      "execution_count": 6,
      "metadata": {
        "colab": {
          "base_uri": "https://localhost:8080/"
        },
        "id": "Rq3ike2ixxRe",
        "outputId": "90afea30-f1df-4810-91ae-3137b64a5789"
      },
      "outputs": [
        {
          "output_type": "stream",
          "name": "stdout",
          "text": [
            "shape : (17000,9)\n"
          ]
        }
      ],
      "source": [
        "# Get shape\n",
        "num_rows = train_df.count()\n",
        "num_cols= len(train_df.columns)\n",
        "print(f\"shape : ({num_rows},{num_cols})\")"
      ]
    },
    {
      "cell_type": "code",
      "execution_count": 7,
      "metadata": {
        "colab": {
          "base_uri": "https://localhost:8080/"
        },
        "id": "N1S970EDxxU8",
        "outputId": "d5967e05-524f-41bc-b71c-244b45df3d3a"
      },
      "outputs": [
        {
          "output_type": "stream",
          "name": "stdout",
          "text": [
            "+-------+-------------------+------------------+------------------+-----------------+-----------------+------------------+-----------------+------------------+------------------+\n",
            "|summary|          longitude|          latitude|housing_median_age|      total_rooms|   total_bedrooms|        population|       households|     median_income|median_house_value|\n",
            "+-------+-------------------+------------------+------------------+-----------------+-----------------+------------------+-----------------+------------------+------------------+\n",
            "|  count|              17000|             17000|             17000|            17000|            17000|             17000|            17000|             17000|             17000|\n",
            "|   mean|-119.56210823529375|  35.6252247058827| 28.58935294117647|2643.664411764706|539.4108235294118|1429.5739411764705|501.2219411764706| 3.883578100000021|207300.91235294117|\n",
            "| stddev| 2.0051664084260357|2.1373397946570867|12.586936981660406|2179.947071452777|421.4994515798648| 1147.852959159527|384.5208408559016|1.9081565183791036|115983.76438720895|\n",
            "|    min|            -124.35|             32.54|               1.0|              2.0|              1.0|               3.0|              1.0|            0.4999|           14999.0|\n",
            "|    max|            -114.31|             41.95|              52.0|          37937.0|           6445.0|           35682.0|           6082.0|           15.0001|          500001.0|\n",
            "+-------+-------------------+------------------+------------------+-----------------+-----------------+------------------+-----------------+------------------+------------------+\n",
            "\n"
          ]
        }
      ],
      "source": [
        "# Get description (summary statistics)\n",
        "train_df.describe().show()"
      ]
    },
    {
      "cell_type": "code",
      "execution_count": 8,
      "metadata": {
        "colab": {
          "base_uri": "https://localhost:8080/"
        },
        "id": "B9eKSFOG0Tck",
        "outputId": "485e6c90-9d7a-4e59-fbcb-692eb34701f8"
      },
      "outputs": [
        {
          "output_type": "stream",
          "name": "stdout",
          "text": [
            "root\n",
            " |-- longitude: double (nullable = true)\n",
            " |-- latitude: double (nullable = true)\n",
            " |-- housing_median_age: double (nullable = true)\n",
            " |-- total_rooms: double (nullable = true)\n",
            " |-- total_bedrooms: double (nullable = true)\n",
            " |-- population: double (nullable = true)\n",
            " |-- households: double (nullable = true)\n",
            " |-- median_income: double (nullable = true)\n",
            " |-- median_house_value: double (nullable = true)\n",
            "\n"
          ]
        }
      ],
      "source": [
        "# Get data types and non-null counts\n",
        "train_df.printSchema()"
      ]
    },
    {
      "cell_type": "code",
      "execution_count": 9,
      "metadata": {
        "id": "d0K42gg37Avg"
      },
      "outputs": [],
      "source": [
        "# Register DataFrame as Temp Table\n",
        "train_df.createOrReplaceTempView(\"california_housing\")"
      ]
    },
    {
      "cell_type": "code",
      "execution_count": 10,
      "metadata": {
        "id": "lR9wYLUF7Axv"
      },
      "outputs": [],
      "source": [
        "# Example Analysis 1: Calculate average house value by median income bracket\n",
        "Analysis1= spark.sql(\"\"\"\n",
        "  SELECT median_income, AVG(median_house_value) as avg_house_value\n",
        "  FROM california_housing\n",
        "  GROUP BY median_income\n",
        "  ORDER BY median_income\n",
        "\"\"\")"
      ]
    },
    {
      "cell_type": "code",
      "execution_count": 11,
      "metadata": {
        "colab": {
          "base_uri": "https://localhost:8080/"
        },
        "id": "LNiZiYKz7A0I",
        "outputId": "fd5417b6-6923-4c8e-ffa2-e5ed47ae5e94"
      },
      "outputs": [
        {
          "output_type": "stream",
          "name": "stdout",
          "text": [
            "+-------------+------------------+\n",
            "|median_income|   avg_house_value|\n",
            "+-------------+------------------+\n",
            "|       0.4999|133027.36363636365|\n",
            "|        0.536| 163571.2857142857|\n",
            "|       0.6433|          111300.0|\n",
            "|       0.6775|          350000.0|\n",
            "|       0.6825|          187500.0|\n",
            "|       0.6831|           87500.0|\n",
            "|        0.696|           42500.0|\n",
            "|       0.6991|           89500.0|\n",
            "|       0.7007|          134400.0|\n",
            "|       0.7025|          500001.0|\n",
            "|       0.7068|          200000.0|\n",
            "|       0.7069|           70300.0|\n",
            "|       0.7075|           78800.0|\n",
            "|        0.716|          104200.0|\n",
            "|       0.7286|           95200.0|\n",
            "|       0.7445|          112500.0|\n",
            "|       0.7473|          168800.0|\n",
            "|       0.7526|          162500.0|\n",
            "|       0.7591|          350000.0|\n",
            "|         0.76|          162500.0|\n",
            "+-------------+------------------+\n",
            "only showing top 20 rows\n",
            "\n"
          ]
        }
      ],
      "source": [
        "Analysis1.show()"
      ]
    },
    {
      "cell_type": "code",
      "execution_count": 12,
      "metadata": {
        "colab": {
          "base_uri": "https://localhost:8080/"
        },
        "id": "WpNhIa9R96-W",
        "outputId": "78dc31dd-ec90-4b70-dbf0-a4b2b6a903ef"
      },
      "outputs": [
        {
          "output_type": "stream",
          "name": "stdout",
          "text": [
            "+---------+--------+---------------+---------------+\n",
            "|longitude|latitude|max_house_value|min_house_value|\n",
            "+---------+--------+---------------+---------------+\n",
            "|  -119.23|   34.19|       500001.0|       500001.0|\n",
            "|   -118.4|   34.13|       500001.0|       500001.0|\n",
            "|  -118.12|   33.76|       500001.0|       461500.0|\n",
            "|  -118.07|   33.72|       500001.0|       485000.0|\n",
            "|  -118.43|   34.02|       500001.0|       500001.0|\n",
            "|  -117.31|   32.82|       500001.0|       500001.0|\n",
            "|  -118.57|   34.27|       500001.0|       500001.0|\n",
            "|  -118.48|   33.96|       500001.0|       500001.0|\n",
            "|  -122.06|    37.3|       500001.0|       500001.0|\n",
            "|  -118.13|   33.79|       500001.0|       234800.0|\n",
            "+---------+--------+---------------+---------------+\n",
            "\n"
          ]
        }
      ],
      "source": [
        "# Example Analysis 2: Find the maximum and minimum house values in each housing block\n",
        "Analysis2 = spark.sql(\"\"\"\n",
        "  SELECT longitude, latitude, MAX(median_house_value) as max_house_value,\n",
        "        MIN(median_house_value) as min_house_value\n",
        "  FROM california_housing\n",
        "  GROUP BY longitude, latitude\n",
        "  ORDER BY max_house_value DESC\n",
        "  LIMIT 10\n",
        "\"\"\")\n",
        "Analysis2.show()"
      ]
    },
    {
      "cell_type": "code",
      "execution_count": 13,
      "metadata": {
        "id": "oAA58YY5-DCm"
      },
      "outputs": [],
      "source": [
        "# Analysis 3: Determine the average house value for houses older than 50 years\n",
        "Analysis3 = spark.sql(\"\"\"\n",
        "  SELECT AVG(median_house_value) as avg_old_house_value\n",
        "  FROM california_housing\n",
        "  WHERE housing_median_age > 50\n",
        "\"\"\")"
      ]
    },
    {
      "cell_type": "code",
      "execution_count": 14,
      "metadata": {
        "colab": {
          "base_uri": "https://localhost:8080/"
        },
        "id": "IHocEnfN-MR4",
        "outputId": "e7cf845f-54cd-4edb-b022-86d8bbd89b6d"
      },
      "outputs": [
        {
          "output_type": "stream",
          "name": "stdout",
          "text": [
            "+-------------------+\n",
            "|avg_old_house_value|\n",
            "+-------------------+\n",
            "|  276408.2573800738|\n",
            "+-------------------+\n",
            "\n"
          ]
        }
      ],
      "source": [
        "Analysis3.show()"
      ]
    },
    {
      "cell_type": "code",
      "execution_count": 15,
      "metadata": {
        "colab": {
          "base_uri": "https://localhost:8080/"
        },
        "id": "R9Ea3ZDp-hlH",
        "outputId": "d305295e-ffc2-4b98-e9d0-85e25e91ab33"
      },
      "outputs": [
        {
          "output_type": "stream",
          "name": "stdout",
          "text": [
            "+------------------+------------------+\n",
            "|proximity_to_ocean|   avg_house_value|\n",
            "+------------------+------------------+\n",
            "|        Near Ocean|  245589.432132964|\n",
            "|    Far from Ocean|198254.34113882628|\n",
            "+------------------+------------------+\n",
            "\n"
          ]
        }
      ],
      "source": [
        "# 1. Average House Value by Proximity to Ocean (Based on Longitude)\n",
        "result1 = spark.sql(\"\"\"\n",
        " SELECT CASE\n",
        "     WHEN longitude <  -122 THEN \"Near Ocean\"\n",
        "     ELSE \"Far from Ocean\"\n",
        "    END as proximity_to_ocean,\n",
        "  AVG (median_house_value) as avg_house_value\n",
        "  FROM california_housing\n",
        "  GROUP BY proximity_to_ocean\n",
        "\"\"\"   )\n",
        "result1.show()"
      ]
    },
    {
      "cell_type": "code",
      "execution_count": 16,
      "metadata": {
        "colab": {
          "base_uri": "https://localhost:8080/"
        },
        "id": "OhPVgKiGJvtZ",
        "outputId": "16befa98-ecd6-4d2d-9cd2-2d1682b0a203"
      },
      "outputs": [
        {
          "output_type": "stream",
          "name": "stdout",
          "text": [
            "+------------------+------------------+\n",
            "|housing_median_age|         avg_rooms|\n",
            "+------------------+------------------+\n",
            "|               1.0|            2158.0|\n",
            "|               2.0| 5237.102040816327|\n",
            "|               3.0| 6920.326086956522|\n",
            "|               4.0| 6065.614906832298|\n",
            "|               5.0| 4926.261306532663|\n",
            "|               6.0| 4365.062015503876|\n",
            "|               7.0| 5672.907284768212|\n",
            "|               8.0|4076.7865168539324|\n",
            "|               9.0|3813.4651162790697|\n",
            "|              10.0|3518.4823008849557|\n",
            "|              11.0| 3971.105769230769|\n",
            "|              12.0| 4216.661458333333|\n",
            "|              13.0|3692.5060240963853|\n",
            "|              14.0| 3720.348703170029|\n",
            "|              15.0|3283.3173076923076|\n",
            "|              16.0| 3047.636220472441|\n",
            "|              17.0|3133.9670138888887|\n",
            "|              18.0|3098.4435146443516|\n",
            "|              19.0| 3005.140776699029|\n",
            "|              20.0|2852.3342036553527|\n",
            "+------------------+------------------+\n",
            "only showing top 20 rows\n",
            "\n"
          ]
        }
      ],
      "source": [
        "# 2. Average Number of Rooms by Age of Housing\n",
        "result2 = spark.sql(\"\"\"\n",
        "    SELECT housing_median_age,\n",
        "           AVG(total_rooms) as avg_rooms\n",
        "    FROM california_housing\n",
        "    GROUP BY housing_median_age\n",
        "    ORDER BY housing_median_age\n",
        "\"\"\")\n",
        "result2.show()"
      ]
    },
    {
      "cell_type": "code",
      "execution_count": 17,
      "metadata": {
        "colab": {
          "base_uri": "https://localhost:8080/"
        },
        "id": "Yo4FUrcLKHDO",
        "outputId": "c0211456-4929-404e-a107-89f670116f25"
      },
      "outputs": [
        {
          "output_type": "stream",
          "name": "stdout",
          "text": [
            "+---------+--------+-------------+\n",
            "|longitude|latitude|median_income|\n",
            "+---------+--------+-------------+\n",
            "|  -118.04|   34.13|      15.0001|\n",
            "|  -118.34|   34.08|      15.0001|\n",
            "|  -118.06|   33.72|      15.0001|\n",
            "|  -118.19|   34.19|      15.0001|\n",
            "|  -118.33|   34.06|      15.0001|\n",
            "|  -118.32|   34.06|      15.0001|\n",
            "|  -117.23|   32.99|      15.0001|\n",
            "|  -118.33|   34.07|      15.0001|\n",
            "|  -118.18|   34.19|      15.0001|\n",
            "|  -118.12|   34.12|      15.0001|\n",
            "+---------+--------+-------------+\n",
            "\n"
          ]
        }
      ],
      "source": [
        "# 3. Top 10 Locations with the Highest Median Income\n",
        "result3 = spark.sql(\"\"\"\n",
        "    SELECT longitude, latitude, median_income\n",
        "    FROM california_housing\n",
        "    ORDER BY median_income DESC\n",
        "    LIMIT 10\n",
        "\"\"\")\n",
        "result3.show()"
      ]
    },
    {
      "cell_type": "code",
      "execution_count": 18,
      "metadata": {
        "colab": {
          "base_uri": "https://localhost:8080/"
        },
        "id": "ibDIHiY2KHGl",
        "outputId": "25f8b27e-05fb-4b00-e458-cf5a5699c44e"
      },
      "outputs": [
        {
          "output_type": "execute_result",
          "data": {
            "text/plain": [
              "-0.02785006112089839"
            ]
          },
          "metadata": {},
          "execution_count": 18
        }
      ],
      "source": [
        "# 4. Relationship Between Population and House Value (Correlation Analysis)\n",
        "result4 = spark.sql(\"\"\"\n",
        "    SELECT POPULATION, median_house_value\n",
        "    FROM california_housing\n",
        "\"\"\")\n",
        "result4.corr(\"population\", \"median_house_value\")"
      ]
    },
    {
      "cell_type": "code",
      "execution_count": 19,
      "metadata": {
        "colab": {
          "base_uri": "https://localhost:8080/"
        },
        "id": "JP0ae1D3KHKE",
        "outputId": "dc8b88d5-a4ec-44c6-aac7-beb3a224398f"
      },
      "outputs": [
        {
          "output_type": "stream",
          "name": "stdout",
          "text": [
            "+-------------+------------------+\n",
            "| income_level|   avg_house_value|\n",
            "+-------------+------------------+\n",
            "|  High Income| 306535.0667466027|\n",
            "|   Low Income|120705.26480304956|\n",
            "|Medium Income|187971.56916015383|\n",
            "+-------------+------------------+\n",
            "\n"
          ]
        }
      ],
      "source": [
        "# 5. Average House Value by Income Level (Low, Medium, High)\n",
        "result5 = spark.sql(\"\"\"\n",
        "    SELECT CASE\n",
        "               WHEN median_income < 2.5 THEN 'Low Income'\n",
        "               WHEN median_income BETWEEN 2.5 AND 4.5 THEN 'Medium Income'\n",
        "               ELSE 'High Income'\n",
        "           END as income_level,\n",
        "           AVG(median_house_value) as avg_house_value\n",
        "    FROM california_housing\n",
        "    GROUP BY income_level\n",
        "\"\"\")\n",
        "result5.show()"
      ]
    },
    {
      "cell_type": "code",
      "execution_count": 20,
      "metadata": {
        "colab": {
          "base_uri": "https://localhost:8080/"
        },
        "id": "YIbMlUUvKHTw",
        "outputId": "4491d509-fcef-4c4f-8236-372876fcf6a1"
      },
      "outputs": [
        {
          "output_type": "stream",
          "name": "stdout",
          "text": [
            "+-----------+-----------+\n",
            "|  age_group|house_count|\n",
            "+-----------+-----------+\n",
            "|Middle-aged|       9004|\n",
            "|        New|       4826|\n",
            "|        Old|       3170|\n",
            "+-----------+-----------+\n",
            "\n"
          ]
        }
      ],
      "source": [
        "# 6. Number of Houses in Different Age Groups\n",
        "result6 = spark.sql(\"\"\"\n",
        "    SELECT CASE\n",
        "               WHEN housing_median_age < 20 THEN 'New'\n",
        "               WHEN housing_median_age BETWEEN 20 AND 40 THEN 'Middle-aged'\n",
        "               ELSE 'Old'\n",
        "           END as age_group,\n",
        "           COUNT(*) as house_count\n",
        "    FROM california_housing\n",
        "    GROUP BY age_group\n",
        "    ORDER BY house_count DESC\n",
        "\"\"\")\n",
        "result6.show()"
      ]
    },
    {
      "cell_type": "code",
      "execution_count": 21,
      "metadata": {
        "colab": {
          "base_uri": "https://localhost:8080/"
        },
        "id": "_7FbxCnNLmm3",
        "outputId": "5232540b-d66b-4522-d57f-e8b56697dc28"
      },
      "outputs": [
        {
          "output_type": "stream",
          "name": "stdout",
          "text": [
            "+----------------------+\n",
            "|avg_bedrooms_per_house|\n",
            "+----------------------+\n",
            "|    1.0972809315785848|\n",
            "+----------------------+\n",
            "\n"
          ]
        }
      ],
      "source": [
        "# 7. Average Number of Bedrooms Per House\n",
        "result7 = spark.sql(\"\"\"\n",
        "    SELECT AVG(total_bedrooms / households) as avg_bedrooms_per_house\n",
        "    FROM california_housing\n",
        "\"\"\")\n",
        "result7.show()"
      ]
    },
    {
      "cell_type": "code",
      "execution_count": 22,
      "metadata": {
        "colab": {
          "base_uri": "https://localhost:8080/"
        },
        "id": "K_fMgcLwLtM9",
        "outputId": "6f028a76-0e94-4aa6-c2b4-985f97ff7b05"
      },
      "outputs": [
        {
          "output_type": "stream",
          "name": "stdout",
          "text": [
            "+--------+---------+------------+\n",
            "|latitude|longitude|median_value|\n",
            "+--------+---------+------------+\n",
            "|   32.95|  -117.26|    500001.0|\n",
            "|   32.83|  -117.26|    500001.0|\n",
            "|   32.83|  -117.31|    500001.0|\n",
            "|   32.84|  -117.27|    500001.0|\n",
            "|   32.76|  -117.19|    500001.0|\n",
            "|   32.84|  -117.25|    500001.0|\n",
            "|   32.72|  -117.23|    500001.0|\n",
            "|   32.85|  -117.26|    500001.0|\n",
            "|   32.81|  -117.29|    500001.0|\n",
            "|   32.85|  -117.24|    500001.0|\n",
            "+--------+---------+------------+\n",
            "\n"
          ]
        }
      ],
      "source": [
        "# 8. Median House Value by Latitude and Longitude\n",
        "result8 = spark.sql(\"\"\"\n",
        "    SELECT latitude, longitude,\n",
        "           PERCENTILE_APPROX(median_house_value, 0.5) as median_value\n",
        "    FROM california_housing\n",
        "    GROUP BY latitude, longitude\n",
        "    ORDER BY median_value DESC\n",
        "    LIMIT 10\n",
        "\"\"\")\n",
        "result8.show()"
      ]
    },
    {
      "cell_type": "code",
      "execution_count": 23,
      "metadata": {
        "colab": {
          "base_uri": "https://localhost:8080/"
        },
        "id": "szp4FCDmLzD9",
        "outputId": "f11f68dd-8ffe-4947-ae34-0f8525e629b9"
      },
      "outputs": [
        {
          "output_type": "stream",
          "name": "stdout",
          "text": [
            "+----------------+\n",
            "|large_households|\n",
            "+----------------+\n",
            "|            1437|\n",
            "+----------------+\n",
            "\n"
          ]
        }
      ],
      "source": [
        "# 9. Households with More Than 4 Persons Per Household\n",
        "result9 = spark.sql(\"\"\"\n",
        "    SELECT COUNT(*) as large_households\n",
        "    FROM california_housing\n",
        "    WHERE population / households > 4\n",
        "\"\"\")\n",
        "result9.show()"
      ]
    },
    {
      "cell_type": "code",
      "execution_count": 24,
      "metadata": {
        "colab": {
          "base_uri": "https://localhost:8080/"
        },
        "id": "Kxy4o1d4L3rh",
        "outputId": "6c3406f0-acf2-46c8-d697-983d4d53e6b2"
      },
      "outputs": [
        {
          "output_type": "stream",
          "name": "stdout",
          "text": [
            "+--------+---------+-----------------+\n",
            "|latitude|longitude|    rooms_density|\n",
            "+--------+---------+-----------------+\n",
            "|   38.72|  -121.35|          10948.5|\n",
            "|   33.57|  -117.16|          10195.5|\n",
            "|   33.89|  -117.74|          9484.25|\n",
            "|   33.89|  -117.52|           8989.0|\n",
            "|   33.52|  -117.12|          7600.25|\n",
            "|    33.9|  -117.19|           7020.0|\n",
            "|   38.77|  -121.33|           6738.0|\n",
            "|    33.9|  -117.33|           6418.5|\n",
            "|   38.66|  -121.13|           6180.0|\n",
            "|   33.97|  -117.21|6118.666666666667|\n",
            "+--------+---------+-----------------+\n",
            "\n"
          ]
        }
      ],
      "source": [
        "# 10. Areas with the Highest House Density (Rooms per Area)\n",
        "result10 = spark.sql(\"\"\"\n",
        "    SELECT latitude, longitude, (total_rooms / housing_median_age) as rooms_density\n",
        "    FROM california_housing\n",
        "    ORDER BY rooms_density DESC\n",
        "    LIMIT 10\n",
        "\"\"\")\n",
        "result10.show()"
      ]
    },
    {
      "cell_type": "markdown",
      "metadata": {
        "id": "kRRZwqWR5qtU"
      },
      "source": [
        "Now we perform predictive Analysis"
      ]
    },
    {
      "cell_type": "code",
      "execution_count": 25,
      "metadata": {
        "id": "crLbIWga5OuL"
      },
      "outputs": [],
      "source": [
        "feature_cols = ['longitude', 'latitude', 'housing_median_age',\n",
        "                'total_rooms', 'total_bedrooms', 'population',\n",
        "                'households', 'median_income']"
      ]
    },
    {
      "cell_type": "code",
      "execution_count": 26,
      "metadata": {
        "id": "HjTpkeGg5Ozu"
      },
      "outputs": [],
      "source": [
        "# VectorAssembler combines feature columns into a single vector column\n",
        "from pyspark.ml.feature import VectorAssembler\n",
        "assembler = VectorAssembler(inputCols=feature_cols, outputCol=\"features\")"
      ]
    },
    {
      "cell_type": "code",
      "execution_count": 27,
      "metadata": {
        "id": "ZP8P04iN5O2E"
      },
      "outputs": [],
      "source": [
        "train_df = assembler.transform(train_df)\n",
        "test_df = assembler.transform(test_df)"
      ]
    },
    {
      "cell_type": "code",
      "execution_count": 28,
      "metadata": {
        "id": "heEi8iDd5O5n"
      },
      "outputs": [],
      "source": [
        "# Split train data into training and validation sets\n",
        "train_data, validation_data = train_df.randomSplit([0.8, 0.2], seed=1234)"
      ]
    },
    {
      "cell_type": "code",
      "execution_count": 29,
      "metadata": {
        "id": "GhywCs3q6lvz"
      },
      "outputs": [],
      "source": [
        "# Initialize the Gradient Boosted Trees Regressor\n",
        "from pyspark.ml.regression import GBTRegressor\n",
        "gbt_model = GBTRegressor(featuresCol=\"features\", labelCol=\"median_house_value\", maxIter=100)\n"
      ]
    },
    {
      "cell_type": "code",
      "execution_count": 30,
      "metadata": {
        "id": "QC0V-sUk6lyd"
      },
      "outputs": [],
      "source": [
        "# Train the model on the training data\n",
        "gbt_fitted_model = gbt_model.fit(train_data)"
      ]
    },
    {
      "cell_type": "code",
      "execution_count": 31,
      "metadata": {
        "id": "fJHTEc5j6l1L"
      },
      "outputs": [],
      "source": [
        "# Make predictions on the validation data\n",
        "validation_predictions = gbt_fitted_model.transform(validation_data)"
      ]
    },
    {
      "cell_type": "code",
      "execution_count": 32,
      "metadata": {
        "id": "THmUDIi56l3_"
      },
      "outputs": [],
      "source": [
        "from pyspark.ml.evaluation import RegressionEvaluator\n",
        "r2_evaluator = RegressionEvaluator(labelCol=\"median_house_value\", predictionCol=\"prediction\", metricName=\"r2\")"
      ]
    },
    {
      "cell_type": "code",
      "execution_count": 33,
      "metadata": {
        "id": "-SJWzv-M6l7V"
      },
      "outputs": [],
      "source": [
        "\n",
        "# Calculate evaluation metrics for the validation set\n",
        "r2 = r2_evaluator.evaluate(validation_predictions)"
      ]
    },
    {
      "cell_type": "code",
      "execution_count": 34,
      "metadata": {
        "colab": {
          "base_uri": "https://localhost:8080/"
        },
        "id": "FESiFGXeAWEW",
        "outputId": "b499cae2-757d-4e4f-8067-aae6860c3ce4"
      },
      "outputs": [
        {
          "output_type": "stream",
          "name": "stdout",
          "text": [
            "Validation R²: 0.7951325591336172\n"
          ]
        }
      ],
      "source": [
        "print(f\"Validation R²: {r2}\")"
      ]
    },
    {
      "cell_type": "code",
      "execution_count": 35,
      "metadata": {
        "id": "q37XhYI_AW3r"
      },
      "outputs": [],
      "source": [
        "# Make predictions on the test set using the trained model\n",
        "test_predictions = gbt_fitted_model.transform(test_df)"
      ]
    },
    {
      "cell_type": "code",
      "execution_count": 36,
      "metadata": {
        "id": "M6CPfe0a6FSy"
      },
      "outputs": [],
      "source": [
        "# Evaluate the model on the test set\n",
        "r2_test = r2_evaluator.evaluate(test_predictions)"
      ]
    },
    {
      "cell_type": "code",
      "execution_count": 38,
      "metadata": {
        "colab": {
          "base_uri": "https://localhost:8080/"
        },
        "id": "j59hqo6S6FWG",
        "outputId": "4f0b88d1-83cb-4774-fef6-55f1cd1e7e6c"
      },
      "outputs": [
        {
          "output_type": "stream",
          "name": "stdout",
          "text": [
            "Test R²: 0.7738505979617136\n"
          ]
        }
      ],
      "source": [
        "print(f\"Test R²: {r2_test}\")"
      ]
    }
  ],
  "metadata": {
    "colab": {
      "provenance": []
    },
    "kernelspec": {
      "display_name": "Python 3",
      "name": "python3"
    },
    "language_info": {
      "name": "python"
    }
  },
  "nbformat": 4,
  "nbformat_minor": 0
}